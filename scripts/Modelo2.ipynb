{
 "cells": [
  {
   "cell_type": "code",
   "execution_count": 1,
   "metadata": {},
   "outputs": [],
   "source": [
    "import pandas as pd\n",
    "from sklearn.feature_extraction.text import TfidfVectorizer\n",
    "from sklearn.metrics.pairwise import linear_kernel"
   ]
  },
  {
   "cell_type": "code",
   "execution_count": 3,
   "metadata": {},
   "outputs": [],
   "source": [
    "# Cargar datos\n",
    "\n",
    "df = pd.read_csv('../datasets/movies_ml.csv', low_memory=False)\n",
    "data = df.copy()"
   ]
  },
  {
   "cell_type": "code",
   "execution_count": 5,
   "metadata": {},
   "outputs": [],
   "source": [
    "# Eliminando los datos duplicados del dataframe\n",
    "data = data.drop_duplicates(subset = 'title')"
   ]
  },
  {
   "cell_type": "code",
   "execution_count": 6,
   "metadata": {},
   "outputs": [
    {
     "name": "stdout",
     "output_type": "stream",
     "text": [
      "5.624940274853939\n"
     ]
    }
   ],
   "source": [
    "# Calculo del promedio de la columna vote_average\n",
    "\n",
    "C = data['vote_average'].mean()\n",
    "print(C)"
   ]
  },
  {
   "cell_type": "code",
   "execution_count": 7,
   "metadata": {},
   "outputs": [
    {
     "name": "stdout",
     "output_type": "stream",
     "text": [
      "158.0\n"
     ]
    }
   ],
   "source": [
    "# Calculo del percentil 90, incluso si hay NaN\n",
    "# calcula un umbral basado en el percentil 90 de la columna de votos, \n",
    "# lo cual indica el número mínimo de votos necesarios\n",
    "\n",
    "m = data['vote_count'].quantile(0.90)\n",
    "print(m)"
   ]
  },
  {
   "cell_type": "code",
   "execution_count": 8,
   "metadata": {},
   "outputs": [
    {
     "name": "stdout",
     "output_type": "stream",
     "text": [
      "158.0\n"
     ]
    }
   ],
   "source": [
    "# Calculate the minimum number of votes required to be in the chart, m\n",
    "\n",
    "m = data['vote_count'].quantile(0.90)\n",
    "print(m)"
   ]
  },
  {
   "cell_type": "code",
   "execution_count": 9,
   "metadata": {},
   "outputs": [],
   "source": [
    "# Filtrado delas las películas que tienen votos igual o mayor al valor de 'p' percentil.\n",
    "# que es el mínimo número de votos requeridos\n",
    "\n",
    "data = data.loc[data['vote_count'] >= m]"
   ]
  },
  {
   "cell_type": "code",
   "execution_count": 10,
   "metadata": {},
   "outputs": [],
   "source": [
    "# Función que calcula la calificación ponderada de cada película\n",
    "def weighted_rating(x, m=m, C=C):\n",
    "    v = x['vote_count']\n",
    "    R = x['vote_average']\n",
    "    # Calculation based on the IMDB formula\n",
    "    return (v/(v+m) * R) + (m/(m+v) * C)"
   ]
  },
  {
   "cell_type": "markdown",
   "metadata": {},
   "source": [
    "A continuación se muestra el sistema de calificación utilizado por IMDB. Este método es muy importante ya que todas las películas calificadas con 5 de 5 no son iguales. Una película puede haber recibido millones de calificaciones, mientras que otra puede tener un número más limitado de votos. Por lo tanto, esta calificación otorga mayor importancia a las películas que tienen más calificaciones.\n",
    "\n",
    "            (WR) = (v/(v + m))R + (m/(v+m))C\n",
    "\n",
    "\n",
    "R = promedio de la película (media)\n",
    "v = número de votos para la película\n",
    "p = número mínimo de votos requeridos para aparecer en el Top 50 (actualmente 1000)\n",
    "m = la calificación promedio de todo el informe (actualmente 6.8)"
   ]
  },
  {
   "cell_type": "code",
   "execution_count": 11,
   "metadata": {},
   "outputs": [],
   "source": [
    "# Calculo y se asignauna puntuación ponderada para cada película\n",
    "\n",
    "data['score'] = data.apply(weighted_rating, axis=1)"
   ]
  },
  {
   "cell_type": "code",
   "execution_count": 12,
   "metadata": {},
   "outputs": [],
   "source": [
    "# Se ordena las películas en función de la columna 'score' descendentemente \n",
    "\n",
    "data = data.sort_values('score', ascending = False)"
   ]
  },
  {
   "cell_type": "code",
   "execution_count": 13,
   "metadata": {},
   "outputs": [
    {
     "data": {
      "text/plain": [
       "314      Framed in the 1940s for the double murder of h...\n",
       "10309    Raj is a rich, carefree, happy-go-lucky second...\n",
       "834      Spanning the years 1945 to 1955, a chronicle o...\n",
       "12481    Batman raises the stakes in his war on crime. ...\n",
       "2843     A ticking-time-bomb insomniac and a slippery s...\n",
       "                               ...                        \n",
       "9710     Tim Avery, an aspiring cartoonist, finds himse...\n",
       "12911    In DISASTER MOVIE, the filmmaking team behind ...\n",
       "3471     In the year 3000, man is no match for the Psyc...\n",
       "11557    When Edward, Peter, Lucy and Susan each follow...\n",
       "13566    The young warrior Son Goku sets out on a quest...\n",
       "Name: overview, Length: 4241, dtype: object"
      ]
     },
     "execution_count": 13,
     "metadata": {},
     "output_type": "execute_result"
    }
   ],
   "source": [
    "# Explorando una muestra de la data overview \n",
    "\n",
    "data['overview']"
   ]
  },
  {
   "cell_type": "code",
   "execution_count": 14,
   "metadata": {},
   "outputs": [],
   "source": [
    "# Convirtiendo documentos de texto en una matriz de \n",
    "# características numéricas usando TF-IDF \n",
    "\n",
    "tfidf = TfidfVectorizer(stop_words='english')"
   ]
  },
  {
   "cell_type": "code",
   "execution_count": 15,
   "metadata": {},
   "outputs": [],
   "source": [
    "# Reemplaza los valores NaN en la columna 'overview'con una cadena vacía ('#Replace NaN with an empty string\n",
    "\n",
    "data['overview'] = data['overview'].fillna('')"
   ]
  },
  {
   "cell_type": "code",
   "execution_count": 16,
   "metadata": {},
   "outputs": [],
   "source": [
    "# Creando la matriz de términos-frecuencia inversa con (TF-IDF) \n",
    "\n",
    "tfidf_matrix = tfidf.fit_transform(data['overview'])"
   ]
  },
  {
   "cell_type": "code",
   "execution_count": 17,
   "metadata": {},
   "outputs": [
    {
     "data": {
      "text/plain": [
       "array(['disguise', 'disguised', 'disguises', 'disgusted', 'dishes',\n",
       "       'dishonored', 'disillusioned', 'disillusionment', 'disillusions',\n",
       "       'disintegrate'], dtype=object)"
      ]
     },
     "execution_count": 17,
     "metadata": {},
     "output_type": "execute_result"
    }
   ],
   "source": [
    "# Mapeo de índices de los nombres en el vectorizador TF-IDF\n",
    "\n",
    "tfidf.get_feature_names_out()[5000:5010]"
   ]
  },
  {
   "cell_type": "code",
   "execution_count": 18,
   "metadata": {},
   "outputs": [],
   "source": [
    "# Calcular la puntuación de similitud del coseno entre todos los pares de películas TF-IDF\n",
    "\n",
    "cosine_sim = linear_kernel(tfidf_matrix, tfidf_matrix)"
   ]
  },
  {
   "cell_type": "code",
   "execution_count": 19,
   "metadata": {},
   "outputs": [],
   "source": [
    "# Restablececiendo los índices de la data\n",
    "\n",
    "data.reset_index(drop = True, inplace = True)"
   ]
  },
  {
   "cell_type": "code",
   "execution_count": 20,
   "metadata": {},
   "outputs": [],
   "source": [
    "# Mapeo inverso que nos permite buscar el índice de una película a partir de su título\n",
    "\n",
    "index = pd.Series(data.index, index = data['title']).drop_duplicates()"
   ]
  },
  {
   "cell_type": "code",
   "execution_count": 21,
   "metadata": {},
   "outputs": [],
   "source": [
    "# Creación de la función de recomendación\n",
    "def recomendacion(titulo, cosine_sim = cosine_sim):\n",
    "\n",
    "  if titulo not in index:\n",
    "    return \"La película no se encuentra entre el 10% de las mejores películas. Intenta con una mejor!\"\n",
    "\n",
    "  idx = index[titulo]\n",
    "  sim_scores = list(enumerate(cosine_sim[idx]))\n",
    "  sim_scores = sorted(sim_scores, key = lambda x: x[1], reverse = True)\n",
    "  sim_scores = sim_scores[1:6]\n",
    "  movie_indices = [i[0] for i in sim_scores]\n",
    "  result = data['title'].iloc[movie_indices]\n",
    "  return {\"Te recomendamos estas peliculas\" : list(result)}"
   ]
  },
  {
   "cell_type": "code",
   "execution_count": 22,
   "metadata": {},
   "outputs": [
    {
     "data": {
      "text/plain": [
       "{'Te recomendamos estas peliculas': ['Toy Story 3',\n",
       "  'Toy Story 2',\n",
       "  'The 40 Year Old Virgin',\n",
       "  'Rebel Without a Cause',\n",
       "  'Man on the Moon']}"
      ]
     },
     "execution_count": 22,
     "metadata": {},
     "output_type": "execute_result"
    }
   ],
   "source": [
    "recomendacion(\"Toy Story\")"
   ]
  },
  {
   "cell_type": "code",
   "execution_count": null,
   "metadata": {},
   "outputs": [],
   "source": []
  },
  {
   "cell_type": "code",
   "execution_count": 22,
   "metadata": {},
   "outputs": [],
   "source": []
  },
  {
   "cell_type": "code",
   "execution_count": null,
   "metadata": {},
   "outputs": [],
   "source": []
  }
 ],
 "metadata": {
  "kernelspec": {
   "display_name": "Python 3 (ipykernel)",
   "language": "python",
   "name": "python3"
  },
  "language_info": {
   "codemirror_mode": {
    "name": "ipython",
    "version": 3
   },
   "file_extension": ".py",
   "mimetype": "text/x-python",
   "name": "python",
   "nbconvert_exporter": "python",
   "pygments_lexer": "ipython3",
   "version": "3.10.6"
  }
 },
 "nbformat": 4,
 "nbformat_minor": 2
}
