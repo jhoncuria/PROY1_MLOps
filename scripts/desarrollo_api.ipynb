{
 "cells": [
  {
   "cell_type": "markdown",
   "id": "bed86167",
   "metadata": {},
   "source": [
    "# <center>Desarrollo API</center>\n",
    "Propones disponibilizar los datos de la empresa usando el framework FastAPI. Las consultas que propones son las siguientes:"
   ]
  },
  {
   "cell_type": "markdown",
   "id": "b41c1ee1",
   "metadata": {},
   "source": [
    "Deben crear 6 funciones para los endpoints que se consumirán en la API, recuerden que deben tener un decorador por cada una (@app.get(‘/’))."
   ]
  },
  {
   "cell_type": "code",
   "execution_count": 1,
   "id": "ae127b67",
   "metadata": {},
   "outputs": [],
   "source": [
    "import pandas as pd\n",
    "import numpy as np\n",
    "import datetime\n",
    "import ast"
   ]
  },
  {
   "cell_type": "code",
   "execution_count": 2,
   "id": "03c781b8",
   "metadata": {},
   "outputs": [],
   "source": [
    "# Carga del Datasets\n",
    "df = pd.read_csv(\"./movies_etl.csv\", low_memory=False)"
   ]
  },
  {
   "cell_type": "code",
   "execution_count": 5,
   "id": "2a753777",
   "metadata": {},
   "outputs": [
    {
     "data": {
      "text/html": [
       "<div>\n",
       "<style scoped>\n",
       "    .dataframe tbody tr th:only-of-type {\n",
       "        vertical-align: middle;\n",
       "    }\n",
       "\n",
       "    .dataframe tbody tr th {\n",
       "        vertical-align: top;\n",
       "    }\n",
       "\n",
       "    .dataframe thead th {\n",
       "        text-align: right;\n",
       "    }\n",
       "</style>\n",
       "<table border=\"1\" class=\"dataframe\">\n",
       "  <thead>\n",
       "    <tr style=\"text-align: right;\">\n",
       "      <th></th>\n",
       "      <th>belongs_to_collection</th>\n",
       "      <th>budget</th>\n",
       "      <th>genres</th>\n",
       "      <th>id</th>\n",
       "      <th>original_language</th>\n",
       "      <th>overview</th>\n",
       "      <th>popularity</th>\n",
       "      <th>production_companies</th>\n",
       "      <th>production_countries</th>\n",
       "      <th>release_date</th>\n",
       "      <th>revenue</th>\n",
       "      <th>runtime</th>\n",
       "      <th>spoken_languages</th>\n",
       "      <th>status</th>\n",
       "      <th>tagline</th>\n",
       "      <th>title</th>\n",
       "      <th>vote_average</th>\n",
       "      <th>year</th>\n",
       "      <th>month</th>\n",
       "      <th>day</th>\n",
       "      <th>return</th>\n",
       "    </tr>\n",
       "  </thead>\n",
       "  <tbody>\n",
       "    <tr>\n",
       "      <th>0</th>\n",
       "      <td>Toy Story Collection</td>\n",
       "      <td>30000000</td>\n",
       "      <td>['Animation', 'Comedy...</td>\n",
       "      <td>862</td>\n",
       "      <td>en</td>\n",
       "      <td>Led by Woody, Andy's ...</td>\n",
       "      <td>21.946943</td>\n",
       "      <td>['Pixar Animation Stu...</td>\n",
       "      <td>['United States of Am...</td>\n",
       "      <td>1995-10-30</td>\n",
       "      <td>373554033.0</td>\n",
       "      <td>81.0</td>\n",
       "      <td>['English']</td>\n",
       "      <td>Released</td>\n",
       "      <td>NaN</td>\n",
       "      <td>Toy Story</td>\n",
       "      <td>7.7</td>\n",
       "      <td>1995</td>\n",
       "      <td>Octubre</td>\n",
       "      <td>Lunes</td>\n",
       "      <td>12.45</td>\n",
       "    </tr>\n",
       "    <tr>\n",
       "      <th>1</th>\n",
       "      <td>NaN</td>\n",
       "      <td>65000000</td>\n",
       "      <td>['Adventure', 'Fantas...</td>\n",
       "      <td>8844</td>\n",
       "      <td>en</td>\n",
       "      <td>When siblings Judy an...</td>\n",
       "      <td>17.015539</td>\n",
       "      <td>['TriStar Pictures', ...</td>\n",
       "      <td>['United States of Am...</td>\n",
       "      <td>1995-12-15</td>\n",
       "      <td>262797249.0</td>\n",
       "      <td>104.0</td>\n",
       "      <td>['English', 'Français']</td>\n",
       "      <td>Released</td>\n",
       "      <td>Roll the dice and unl...</td>\n",
       "      <td>Jumanji</td>\n",
       "      <td>6.9</td>\n",
       "      <td>1995</td>\n",
       "      <td>Diciembre</td>\n",
       "      <td>Viernes</td>\n",
       "      <td>4.04</td>\n",
       "    </tr>\n",
       "    <tr>\n",
       "      <th>2</th>\n",
       "      <td>Grumpy Old Men Collec...</td>\n",
       "      <td>0</td>\n",
       "      <td>['Romance', 'Comedy']</td>\n",
       "      <td>15602</td>\n",
       "      <td>en</td>\n",
       "      <td>A family wedding reig...</td>\n",
       "      <td>11.712900</td>\n",
       "      <td>['Warner Bros.', 'Lan...</td>\n",
       "      <td>['United States of Am...</td>\n",
       "      <td>1995-12-22</td>\n",
       "      <td>0.0</td>\n",
       "      <td>101.0</td>\n",
       "      <td>['English']</td>\n",
       "      <td>Released</td>\n",
       "      <td>Still Yelling. Still ...</td>\n",
       "      <td>Grumpier Old Men</td>\n",
       "      <td>6.5</td>\n",
       "      <td>1995</td>\n",
       "      <td>Diciembre</td>\n",
       "      <td>Viernes</td>\n",
       "      <td>0.00</td>\n",
       "    </tr>\n",
       "    <tr>\n",
       "      <th>3</th>\n",
       "      <td>NaN</td>\n",
       "      <td>16000000</td>\n",
       "      <td>['Comedy', 'Drama', '...</td>\n",
       "      <td>31357</td>\n",
       "      <td>en</td>\n",
       "      <td>Cheated on, mistreate...</td>\n",
       "      <td>3.859495</td>\n",
       "      <td>['Twentieth Century F...</td>\n",
       "      <td>['United States of Am...</td>\n",
       "      <td>1995-12-22</td>\n",
       "      <td>81452156.0</td>\n",
       "      <td>127.0</td>\n",
       "      <td>['English']</td>\n",
       "      <td>Released</td>\n",
       "      <td>Friends are the peopl...</td>\n",
       "      <td>Waiting to Exhale</td>\n",
       "      <td>6.1</td>\n",
       "      <td>1995</td>\n",
       "      <td>Diciembre</td>\n",
       "      <td>Viernes</td>\n",
       "      <td>5.09</td>\n",
       "    </tr>\n",
       "    <tr>\n",
       "      <th>4</th>\n",
       "      <td>Father of the Bride C...</td>\n",
       "      <td>0</td>\n",
       "      <td>['Comedy']</td>\n",
       "      <td>11862</td>\n",
       "      <td>en</td>\n",
       "      <td>Just when George Bank...</td>\n",
       "      <td>8.387519</td>\n",
       "      <td>['Sandollar Productio...</td>\n",
       "      <td>['United States of Am...</td>\n",
       "      <td>1995-02-10</td>\n",
       "      <td>76578911.0</td>\n",
       "      <td>106.0</td>\n",
       "      <td>['English']</td>\n",
       "      <td>Released</td>\n",
       "      <td>Just When His World I...</td>\n",
       "      <td>Father of the Bride P...</td>\n",
       "      <td>5.7</td>\n",
       "      <td>1995</td>\n",
       "      <td>Febrero</td>\n",
       "      <td>Viernes</td>\n",
       "      <td>0.00</td>\n",
       "    </tr>\n",
       "  </tbody>\n",
       "</table>\n",
       "</div>"
      ],
      "text/plain": [
       "      belongs_to_collection    budget                    genres     id original_language                  overview  popularity      production_companies      production_countries release_date      revenue  runtime         spoken_languages    status                   tagline                     title  vote_average  year      month      day  return\n",
       "0      Toy Story Collection  30000000  ['Animation', 'Comedy...    862                en  Led by Woody, Andy's ...   21.946943  ['Pixar Animation Stu...  ['United States of Am...   1995-10-30  373554033.0     81.0              ['English']  Released                       NaN                 Toy Story           7.7  1995    Octubre    Lunes   12.45\n",
       "1                       NaN  65000000  ['Adventure', 'Fantas...   8844                en  When siblings Judy an...   17.015539  ['TriStar Pictures', ...  ['United States of Am...   1995-12-15  262797249.0    104.0  ['English', 'Français']  Released  Roll the dice and unl...                   Jumanji           6.9  1995  Diciembre  Viernes    4.04\n",
       "2  Grumpy Old Men Collec...         0     ['Romance', 'Comedy']  15602                en  A family wedding reig...   11.712900  ['Warner Bros.', 'Lan...  ['United States of Am...   1995-12-22          0.0    101.0              ['English']  Released  Still Yelling. Still ...          Grumpier Old Men           6.5  1995  Diciembre  Viernes    0.00\n",
       "3                       NaN  16000000  ['Comedy', 'Drama', '...  31357                en  Cheated on, mistreate...    3.859495  ['Twentieth Century F...  ['United States of Am...   1995-12-22   81452156.0    127.0              ['English']  Released  Friends are the peopl...         Waiting to Exhale           6.1  1995  Diciembre  Viernes    5.09\n",
       "4  Father of the Bride C...         0                ['Comedy']  11862                en  Just when George Bank...    8.387519  ['Sandollar Productio...  ['United States of Am...   1995-02-10   76578911.0    106.0              ['English']  Released  Just When His World I...  Father of the Bride P...           5.7  1995    Febrero  Viernes    0.00"
      ]
     },
     "execution_count": 5,
     "metadata": {},
     "output_type": "execute_result"
    }
   ],
   "source": [
    "# Carga del Datasets\n",
    "pd.set_option('display.max_colwidth', 25)\n",
    "pd.set_option('display.max_columns', None)\n",
    "pd.set_option('display.expand_frame_repr', False)\n",
    "df.head()"
   ]
  },
  {
   "cell_type": "markdown",
   "id": "bcbb50af",
   "metadata": {},
   "source": [
    "def peliculas_mes(mes): '''Se ingresa el mes y la funcion retorna la cantidad de peliculas que se estrenaron ese mes (nombre del mes, en str, ejemplo 'enero') historicamente''' return {'mes':mes, 'cantidad':respuesta}"
   ]
  },
  {
   "cell_type": "code",
   "execution_count": 6,
   "id": "e2c5e43c",
   "metadata": {},
   "outputs": [],
   "source": [
    "def peliculas_mes(mes: str):\n",
    "    '''Se ingresa el mes y la función retorna la cantidad de películas que se estrenaron ese mes históricamente'''\n",
    "    df_mes = df[df['month'] == mes]\n",
    "    cantidad = len(df_mes)\n",
    "    return {'mes': mes, 'cantidad': cantidad}\n"
   ]
  },
  {
   "cell_type": "code",
   "execution_count": 7,
   "id": "d5882b3a",
   "metadata": {},
   "outputs": [
    {
     "name": "stdout",
     "output_type": "stream",
     "text": [
      "{'mes': 'Enero', 'cantidad': 5912}\n",
      "{'mes': 'Febrero', 'cantidad': 3032}\n",
      "{'mes': 'Marzo', 'cantidad': 3553}\n",
      "{'mes': 'Abril', 'cantidad': 3453}\n",
      "{'mes': 'Mayo', 'cantidad': 3339}\n",
      "{'mes': 'Junio', 'cantidad': 3153}\n",
      "{'mes': 'Julio', 'cantidad': 2640}\n",
      "{'mes': 'Agosto', 'cantidad': 3394}\n",
      "{'mes': 'Setiembre', 'cantidad': 0}\n",
      "{'mes': 'Octubre', 'cantidad': 4615}\n",
      "{'mes': 'Noviembre', 'cantidad': 3661}\n",
      "{'mes': 'Diciembre', 'cantidad': 3786}\n"
     ]
    }
   ],
   "source": [
    "print(peliculas_mes('Enero'))\n",
    "print(peliculas_mes('Febrero'))\n",
    "print(peliculas_mes('Marzo'))\n",
    "print(peliculas_mes('Abril'))\n",
    "print(peliculas_mes('Mayo'))\n",
    "print(peliculas_mes('Junio'))\n",
    "print(peliculas_mes('Julio'))\n",
    "print(peliculas_mes('Agosto'))\n",
    "print(peliculas_mes('Setiembre'))\n",
    "print(peliculas_mes('Octubre'))\n",
    "print(peliculas_mes('Noviembre'))\n",
    "print(peliculas_mes('Diciembre'))\n"
   ]
  },
  {
   "cell_type": "markdown",
   "id": "73d5a82a",
   "metadata": {},
   "source": [
    "def peliculas_dia(dia): '''Se ingresa el dia y la funcion retorna la cantidad de peliculas que se estrenaron ese dia (de la semana, en str, ejemplo 'lunes') historicamente''' return {'dia':dia, 'cantidad':respuesta}"
   ]
  },
  {
   "cell_type": "code",
   "execution_count": 8,
   "id": "d16b89c9",
   "metadata": {},
   "outputs": [],
   "source": [
    "def peliculas_dia(dia: str):\n",
    "    '''Se ingresa el día y la función retorna la cantidad de películas que se estrenaron ese día históricamente'''\n",
    "    df_dia = df[df['day'] == dia]\n",
    "    cantidad = len(df_dia)\n",
    "    return {'dia': dia, 'cantidad': cantidad}"
   ]
  },
  {
   "cell_type": "code",
   "execution_count": 9,
   "id": "bb9f290d",
   "metadata": {
    "scrolled": true
   },
   "outputs": [
    {
     "name": "stdout",
     "output_type": "stream",
     "text": [
      "{'dia': 'Lunes', 'cantidad': 3503}\n",
      "{'dia': 'Martes', 'cantidad': 4641}\n",
      "{'dia': 'Miércoles', 'cantidad': 7035}\n",
      "{'dia': 'Jueves', 'cantidad': 7525}\n",
      "{'dia': 'Viernes', 'cantidad': 13908}\n",
      "{'dia': 'Sábado', 'cantidad': 5151}\n",
      "{'dia': 'Domingo', 'cantidad': 3613}\n"
     ]
    }
   ],
   "source": [
    "print(peliculas_dia('Lunes'))\n",
    "print(peliculas_dia('Martes'))\n",
    "print(peliculas_dia('Miércoles'))\n",
    "print(peliculas_dia('Jueves'))\n",
    "print(peliculas_dia('Viernes'))\n",
    "print(peliculas_dia('Sábado'))\n",
    "print(peliculas_dia('Domingo'))"
   ]
  },
  {
   "cell_type": "markdown",
   "id": "6d109057",
   "metadata": {},
   "source": [
    "def franquicia(franquicia): '''Se ingresa la franquicia, retornando la cantidad de peliculas, ganancia total y promedio''' return {'franquicia':franquicia, 'cantidad':respuesta, 'ganancia_total':respuesta, 'ganancia_promedio':respuesta}"
   ]
  },
  {
   "cell_type": "code",
   "execution_count": 10,
   "id": "0dbb1c04",
   "metadata": {},
   "outputs": [],
   "source": [
    "def franquicia(franquicia: str):\n",
    "    '''Se ingresa la franquicia, retornando la cantidad de películas, ganancia total y promedio'''\n",
    "    df_franquicia = df[df['belongs_to_collection'] == franquicia]\n",
    "    cantidad = len(df_franquicia)\n",
    "    ganancia_total = df_franquicia['revenue'].sum()\n",
    "    ganancia_promedio = df_franquicia['revenue'].mean()\n",
    "    return {'franquicia': franquicia, 'cantidad': cantidad, 'ganancia_total': ganancia_total, 'ganancia_promedio': ganancia_promedio}\n"
   ]
  },
  {
   "cell_type": "code",
   "execution_count": 16,
   "id": "ad202462",
   "metadata": {},
   "outputs": [
    {
     "name": "stdout",
     "output_type": "stream",
     "text": [
      "{'franquicia': 'Toy Story Collection', 'cantidad': 3, 'ganancia_total': 1937890605.0, 'ganancia_promedio': 645963535.0}\n",
      "{'franquicia': 'Grumpy Old Men Collection', 'cantidad': 2, 'ganancia_total': 0.0, 'ganancia_promedio': 0.0}\n"
     ]
    }
   ],
   "source": [
    "print(franquicia('Toy Story Collection'))\n",
    "print(franquicia('Grumpy Old Men Collection'))"
   ]
  },
  {
   "cell_type": "markdown",
   "id": "a2ff5504",
   "metadata": {},
   "source": [
    "def peliculas_pais(pais): '''Ingresas el pais, retornando la cantidad de peliculas producidas en el mismo''' return {'pais':pais, 'cantidad':respuesta}"
   ]
  },
  {
   "cell_type": "code",
   "execution_count": 12,
   "id": "9dd97dea",
   "metadata": {},
   "outputs": [],
   "source": [
    "def peliculas_pais(pais: str):\n",
    "    '''Ingresas el país, retornando la cantidad de películas producidas en el mismo'''\n",
    "    df_pais = df[df['production_countries'].apply(lambda x: pais in str(x))]\n",
    "    cantidad = len(df_pais)\n",
    "    return {'pais': pais, 'cantidad': cantidad}"
   ]
  },
  {
   "cell_type": "code",
   "execution_count": 13,
   "id": "86d33f0c",
   "metadata": {},
   "outputs": [
    {
     "name": "stdout",
     "output_type": "stream",
     "text": [
      "{'pais': 'United States of America', 'cantidad': 21147}\n",
      "{'pais': 'Francia', 'cantidad': 0}\n",
      "{'pais': 'Alemania', 'cantidad': 0}\n",
      "{'pais': 'España', 'cantidad': 0}\n",
      "{'pais': 'United Kingdom', 'cantidad': 4091}\n"
     ]
    }
   ],
   "source": [
    "print(peliculas_pais('United States of America'))\n",
    "print(peliculas_pais('Francia'))\n",
    "print(peliculas_pais('Alemania'))\n",
    "print(peliculas_pais('España'))\n",
    "print(peliculas_pais('United Kingdom'))"
   ]
  },
  {
   "cell_type": "markdown",
   "id": "5535547f",
   "metadata": {},
   "source": [
    "def productoras(productora): '''Ingresas la productora, retornando la ganancia total y la cantidad de peliculas que produjeron''' return {'productora':productora, 'ganancia_total':respuesta, 'cantidad':respuesta}"
   ]
  },
  {
   "cell_type": "code",
   "execution_count": 14,
   "id": "594e5794",
   "metadata": {},
   "outputs": [],
   "source": [
    "def productoras(productora: str):\n",
    "    '''Ingresas la productora, retornando la ganancia total y la cantidad de películas que produjeron'''\n",
    "    df_productora = df[df['production_companies'].apply(lambda x: productora in str(x))]\n",
    "    cantidad = len(df_productora)\n",
    "    ganancia_total = df_productora['revenue'].sum()\n",
    "    return {'productora': productora, 'ganancia_total': ganancia_total, 'cantidad': cantidad}"
   ]
  },
  {
   "cell_type": "code",
   "execution_count": 15,
   "id": "7842e0a6",
   "metadata": {},
   "outputs": [
    {
     "name": "stdout",
     "output_type": "stream",
     "text": [
      "{'productora': 'TriStar Pictures', 'ganancia_total': 8022366764.0, 'cantidad': 197}\n",
      "{'productora': 'Warner Bros', 'ganancia_total': 67156995259.0, 'cantidad': 1374}\n",
      "{'productora': 'Yermoliev', 'ganancia_total': 0.0, 'cantidad': 1}\n"
     ]
    }
   ],
   "source": [
    "print(productoras('TriStar Pictures'))\n",
    "print(productoras('Warner Bros'))\n",
    "print(productoras('Yermoliev'))"
   ]
  },
  {
   "cell_type": "markdown",
   "id": "37057b6b",
   "metadata": {},
   "source": [
    "def retorno(pelicula): '''Ingresas la pelicula, retornando la inversion, la ganancia, el retorno y el año en el que se lanzo''' return {'pelicula':pelicula, 'inversion':respuesta, 'ganacia':respuesta,'retorno':respuesta, 'anio':respuesta}"
   ]
  },
  {
   "cell_type": "code",
   "execution_count": 62,
   "id": "cb072555",
   "metadata": {},
   "outputs": [],
   "source": [
    "def retorno(pelicula: str):\n",
    "    '''Ingresas la película, retornando la inversión, la ganancia, el retorno y el año en el que se lanzó'''\n",
    "    df_filtrado = df[df['title'].apply(lambda x: pelicula.strip() == str(x.strip()))]\n",
    "    inversion = df_filtrado[\"budget\"].sum()\n",
    "    ganancia = df_filtrado[\"revenue\"].sum()\n",
    "    retorno = df_filtrado[\"return\"].sum()\n",
    "    anio = pd.to_datetime(df_filtrado[\"year\"]).dt.year\n",
    "\n",
    "    return {'pelicula': pelicula, 'inversion': inversion, 'ganancia': ganancia, 'retorno': retorno, 'año':str(anio.item())}\n"
   ]
  },
  {
   "cell_type": "code",
   "execution_count": 63,
   "id": "084d54d8",
   "metadata": {},
   "outputs": [
    {
     "name": "stdout",
     "output_type": "stream",
     "text": [
      "{'pelicula': 'Toy Story', 'inversion': 30000000, 'ganancia': 373554033.0, 'retorno': 12.45, 'año': '1970'}\n"
     ]
    }
   ],
   "source": [
    "print(retorno('Toy Story'))"
   ]
  },
  {
   "cell_type": "markdown",
   "id": "be1016dd",
   "metadata": {},
   "source": [
    "\n",
    "# Deployment\n",
    "\n",
    "Conoces sobre Render y tienes un tutorial de Render que te hace la vida mas facil smile . Tambien podrias usar Railway, o cualquier otro servicio que permita que la API pueda ser consumida desde la web."
   ]
  }
 ],
 "metadata": {
  "kernelspec": {
   "display_name": "Python 3 (ipykernel)",
   "language": "python",
   "name": "python3"
  },
  "language_info": {
   "codemirror_mode": {
    "name": "ipython",
    "version": 3
   },
   "file_extension": ".py",
   "mimetype": "text/x-python",
   "name": "python",
   "nbconvert_exporter": "python",
   "pygments_lexer": "ipython3",
   "version": "3.10.6"
  }
 },
 "nbformat": 4,
 "nbformat_minor": 5
}
